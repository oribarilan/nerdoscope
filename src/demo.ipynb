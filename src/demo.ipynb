{
 "cells": [
  {
   "cell_type": "code",
   "execution_count": 13,
   "metadata": {},
   "outputs": [
    {
     "name": "stdout",
     "output_type": "stream",
     "text": [
      "Requirement already satisfied: langchain==0.1.11 in /usr/local/lib/python3.11/site-packages (0.1.11)\n",
      "Requirement already satisfied: PyYAML>=5.3 in /usr/local/lib/python3.11/site-packages (from langchain==0.1.11) (6.0.1)\n",
      "Requirement already satisfied: SQLAlchemy<3,>=1.4 in /usr/local/lib/python3.11/site-packages (from langchain==0.1.11) (2.0.28)\n",
      "Requirement already satisfied: aiohttp<4.0.0,>=3.8.3 in /usr/local/lib/python3.11/site-packages (from langchain==0.1.11) (3.9.3)\n",
      "Requirement already satisfied: dataclasses-json<0.7,>=0.5.7 in /usr/local/lib/python3.11/site-packages (from langchain==0.1.11) (0.6.4)\n",
      "Requirement already satisfied: jsonpatch<2.0,>=1.33 in /usr/local/lib/python3.11/site-packages (from langchain==0.1.11) (1.33)\n",
      "Requirement already satisfied: langchain-community<0.1,>=0.0.25 in /usr/local/lib/python3.11/site-packages (from langchain==0.1.11) (0.0.27)\n",
      "Requirement already satisfied: langchain-core<0.2,>=0.1.29 in /usr/local/lib/python3.11/site-packages (from langchain==0.1.11) (0.1.30)\n",
      "Requirement already satisfied: langchain-text-splitters<0.1,>=0.0.1 in /usr/local/lib/python3.11/site-packages (from langchain==0.1.11) (0.0.1)\n",
      "Requirement already satisfied: langsmith<0.2.0,>=0.1.17 in /usr/local/lib/python3.11/site-packages (from langchain==0.1.11) (0.1.23)\n",
      "Requirement already satisfied: numpy<2,>=1 in /usr/local/lib/python3.11/site-packages (from langchain==0.1.11) (1.26.4)\n",
      "Requirement already satisfied: pydantic<3,>=1 in /usr/local/lib/python3.11/site-packages (from langchain==0.1.11) (2.6.3)\n",
      "Requirement already satisfied: requests<3,>=2 in /usr/local/lib/python3.11/site-packages (from langchain==0.1.11) (2.31.0)\n",
      "Requirement already satisfied: tenacity<9.0.0,>=8.1.0 in /usr/local/lib/python3.11/site-packages (from langchain==0.1.11) (8.2.3)\n",
      "Requirement already satisfied: aiosignal>=1.1.2 in /usr/local/lib/python3.11/site-packages (from aiohttp<4.0.0,>=3.8.3->langchain==0.1.11) (1.3.1)\n",
      "Requirement already satisfied: attrs>=17.3.0 in /usr/local/lib/python3.11/site-packages (from aiohttp<4.0.0,>=3.8.3->langchain==0.1.11) (23.2.0)\n",
      "Requirement already satisfied: frozenlist>=1.1.1 in /usr/local/lib/python3.11/site-packages (from aiohttp<4.0.0,>=3.8.3->langchain==0.1.11) (1.4.1)\n",
      "Requirement already satisfied: multidict<7.0,>=4.5 in /usr/local/lib/python3.11/site-packages (from aiohttp<4.0.0,>=3.8.3->langchain==0.1.11) (6.0.5)\n",
      "Requirement already satisfied: yarl<2.0,>=1.0 in /usr/local/lib/python3.11/site-packages (from aiohttp<4.0.0,>=3.8.3->langchain==0.1.11) (1.9.4)\n",
      "Requirement already satisfied: marshmallow<4.0.0,>=3.18.0 in /usr/local/lib/python3.11/site-packages (from dataclasses-json<0.7,>=0.5.7->langchain==0.1.11) (3.21.1)\n",
      "Requirement already satisfied: typing-inspect<1,>=0.4.0 in /usr/local/lib/python3.11/site-packages (from dataclasses-json<0.7,>=0.5.7->langchain==0.1.11) (0.9.0)\n",
      "Requirement already satisfied: jsonpointer>=1.9 in /usr/local/lib/python3.11/site-packages (from jsonpatch<2.0,>=1.33->langchain==0.1.11) (2.4)\n",
      "Requirement already satisfied: anyio<5,>=3 in /usr/local/lib/python3.11/site-packages (from langchain-core<0.2,>=0.1.29->langchain==0.1.11) (4.3.0)\n",
      "Requirement already satisfied: packaging<24.0,>=23.2 in /usr/local/lib/python3.11/site-packages (from langchain-core<0.2,>=0.1.29->langchain==0.1.11) (23.2)\n",
      "Requirement already satisfied: orjson<4.0.0,>=3.9.14 in /usr/local/lib/python3.11/site-packages (from langsmith<0.2.0,>=0.1.17->langchain==0.1.11) (3.9.15)\n",
      "Requirement already satisfied: annotated-types>=0.4.0 in /usr/local/lib/python3.11/site-packages (from pydantic<3,>=1->langchain==0.1.11) (0.6.0)\n",
      "Requirement already satisfied: pydantic-core==2.16.3 in /usr/local/lib/python3.11/site-packages (from pydantic<3,>=1->langchain==0.1.11) (2.16.3)\n",
      "Requirement already satisfied: typing-extensions>=4.6.1 in /usr/local/lib/python3.11/site-packages (from pydantic<3,>=1->langchain==0.1.11) (4.10.0)\n",
      "Requirement already satisfied: charset-normalizer<4,>=2 in /usr/local/lib/python3.11/site-packages (from requests<3,>=2->langchain==0.1.11) (3.3.2)\n",
      "Requirement already satisfied: idna<4,>=2.5 in /usr/local/lib/python3.11/site-packages (from requests<3,>=2->langchain==0.1.11) (3.6)\n",
      "Requirement already satisfied: urllib3<3,>=1.21.1 in /usr/local/lib/python3.11/site-packages (from requests<3,>=2->langchain==0.1.11) (2.2.1)\n",
      "Requirement already satisfied: certifi>=2017.4.17 in /usr/local/lib/python3.11/site-packages (from requests<3,>=2->langchain==0.1.11) (2024.2.2)\n",
      "Requirement already satisfied: greenlet!=0.4.17 in /usr/local/lib/python3.11/site-packages (from SQLAlchemy<3,>=1.4->langchain==0.1.11) (3.0.3)\n",
      "Requirement already satisfied: sniffio>=1.1 in /usr/local/lib/python3.11/site-packages (from anyio<5,>=3->langchain-core<0.2,>=0.1.29->langchain==0.1.11) (1.3.1)\n",
      "Requirement already satisfied: mypy-extensions>=0.3.0 in /usr/local/lib/python3.11/site-packages (from typing-inspect<1,>=0.4.0->dataclasses-json<0.7,>=0.5.7->langchain==0.1.11) (1.0.0)\n",
      "\u001b[33mWARNING: Running pip as the 'root' user can result in broken permissions and conflicting behaviour with the system package manager. It is recommended to use a virtual environment instead: https://pip.pypa.io/warnings/venv\u001b[0m\u001b[33m\n",
      "\u001b[0mNote: you may need to restart the kernel to use updated packages.\n"
     ]
    }
   ],
   "source": [
    "%pip install langchain==0.1.11"
   ]
  },
  {
   "cell_type": "markdown",
   "metadata": {},
   "source": [
    "# this is a demo notebook to introduce basic langchain abilities\n",
    "\n",
    "## in this notebook, we will be playing around with langchain for building nerdoscope - a basic horoscope generator for nerds 🤓"
   ]
  },
  {
   "cell_type": "code",
   "execution_count": 18,
   "metadata": {},
   "outputs": [],
   "source": [
    "# Make sure you pull a model from ollama using `ollama pull <model-name>` (e.g., phi)\n",
    "from langchain_community.llms import Ollama\n",
    "\n",
    "llm = Ollama(model=\"orca-mini:3b\")"
   ]
  },
  {
   "cell_type": "code",
   "execution_count": 19,
   "metadata": {},
   "outputs": [
    {
     "data": {
      "text/plain": [
       "' Hello! How can I assist you today?'"
      ]
     },
     "execution_count": 19,
     "metadata": {},
     "output_type": "execute_result"
    }
   ],
   "source": [
    "# Sanity check: Say hey to your local LLM!\n",
    "\n",
    "llm.invoke(\"Hey!\")"
   ]
  },
  {
   "cell_type": "code",
   "execution_count": 20,
   "metadata": {},
   "outputs": [
    {
     "name": "stdout",
     "output_type": "stream",
     "text": [
      " Your Nerdoscope Reading for the week is: You'll be able to code your way to success, but don't forget to take a break and read a good book now and then."
     ]
    }
   ],
   "source": [
    "# Naively ask for a nerdoscope reading\n",
    "\n",
    "zodiac_role = \"🧑‍💻 Software Develpoer\"\n",
    "query = f'Please generate a funny \"nerdoscope\" (horoscope for nerds) reading for a {zodiac_role}. Keep the answer short, 5 sentences max.'\n",
    "\n",
    "for chunks in llm.stream(query):\n",
    "    print(chunks, end=\"\", flush=True)"
   ]
  },
  {
   "cell_type": "code",
   "execution_count": 27,
   "metadata": {},
   "outputs": [
    {
     "name": "stdout",
     "output_type": "stream",
     "text": [
      " Your nerdoscope reading for the tech industry is as follows: You have a knack for solving complex problems with ease, and you're always up for a good coding challenge. However, sometimes your mind can be a bit too analytical, which can make it hard for you to relax and enjoy the fun aspects of life. Don't forget to take breaks and prioritize self-care!"
     ]
    }
   ],
   "source": [
    "# Let's improve this a bit by using system prompt as context\n",
    "# This helps the model understand the task better\n",
    "\n",
    "from langchain_core.prompts import ChatPromptTemplate\n",
    "\n",
    "system_prompt = \"\"\"\n",
    "You are a horoscope bot, that provides a \"nerdoscope\" (horoscope for nerds) reading for a personnas of the tech industry.'\n",
    "Given the user's role (as their zodiac sign), create a nerdoscope readings that is funny and relatable to their role.\n",
    "Keep the answer short, 5 sentences max.\n",
    "\"\"\"\n",
    "\n",
    "prompt = ChatPromptTemplate.from_messages([\n",
    "    (\"system\", system_prompt),\n",
    "    (\"user\", \"{zodiac_role}\")\n",
    "])\n",
    "\n",
    "# We'll now use the prompt and llm to create a chain, this is called LCEL (Langchain Expression Language)\n",
    "chain = prompt | llm\n",
    "\n",
    "zodiac_role = \"🧑‍💻 Software Develpoer\"\n",
    "for s in chain.stream({\"zodiac_role\": zodiac_role}):\n",
    "    print(s, end=\"\", flush=True)"
   ]
  },
  {
   "cell_type": "code",
   "execution_count": 49,
   "metadata": {},
   "outputs": [],
   "source": [
    "# Nice! Let's organize this into a function\n",
    "\n",
    "from langchain_core.runnables.base import Runnable\n",
    "\n",
    "\n",
    "def stream_print(chain, context):\n",
    "    # This function will stream the output of the chain and print it in a readable way for the notebook\n",
    "    word_count = 0\n",
    "    buffer = \"\"\n",
    "\n",
    "    for s in chain.stream(context):\n",
    "        buffer += s\n",
    "        words = buffer.rsplit(' ', 1)\n",
    "        if len(words) > 1:\n",
    "            for word in words[:-1]:\n",
    "                print(word, end=' ', flush=True)\n",
    "                word_count += 1\n",
    "                if word_count == 10:\n",
    "                    print()\n",
    "                    word_count = 0\n",
    "            buffer = words[-1]\n",
    "    if buffer:\n",
    "        print(buffer, end='', flush=True)"
   ]
  },
  {
   "cell_type": "code",
   "execution_count": 48,
   "metadata": {},
   "outputs": [
    {
     "name": "stdout",
     "output_type": "stream",
     "text": [
      " Hey there! This week's nerdoscope says that you'll have \n",
      "an unexpected encounter with a programming language that you can't \n",
      "even begin to understand. Don't worry, though - use your \n",
      "wits and technical expertise to decipher the code and uncover \n",
      "the hidden message that lies within. Remember, chaos is the \n",
      "key to unlocking the secrets of software development!"
     ]
    }
   ],
   "source": [
    "system_prompt = \"\"\"\n",
    "You are a horoscope bot for personnas in the software development industry.\n",
    "Given a user's role, generate a personalized \"nerdoscope\" (horoscope for nerds) message for the week.\n",
    "Guidelines for the message:\n",
    "* The message should consists of a single paragraph, 5 sentences max.\n",
    "* The message should be in the spirit of a horoscope (refer to it as nerdoscope), offering a blend of foresight and advice relevant to the user role, but in a humorous way.\n",
    "* If possible, the foresight and/or advice should reference a popular tool or technology in the software development industry, relevant to the role.\n",
    "* The tone should be fun and lighthearted.\n",
    "* The message should be funny and sarcastic, and personalized to the role.\n",
    "* The message should include technical jargon.\n",
    "\"\"\"\n",
    "\n",
    "prompt = ChatPromptTemplate.from_messages([\n",
    "    (\"system\", system_prompt),\n",
    "    (\"user\", \"{zodiac_role}\")\n",
    "])\n",
    "\n",
    "chain = prompt | llm\n",
    "\n",
    "zodiac_role = \"🧑‍💻 Software Develpoer\"\n",
    "stream_print(chain, {\"zodiac_role\": zodiac_role})"
   ]
  },
  {
   "cell_type": "code",
   "execution_count": null,
   "metadata": {},
   "outputs": [],
   "source": [
    "# I think we are ready to create our app :)"
   ]
  }
 ],
 "metadata": {
  "kernelspec": {
   "display_name": "Python 3",
   "language": "python",
   "name": "python3"
  },
  "language_info": {
   "codemirror_mode": {
    "name": "ipython",
    "version": 3
   },
   "file_extension": ".py",
   "mimetype": "text/x-python",
   "name": "python",
   "nbconvert_exporter": "python",
   "pygments_lexer": "ipython3",
   "version": "3.11.8"
  }
 },
 "nbformat": 4,
 "nbformat_minor": 2
}
